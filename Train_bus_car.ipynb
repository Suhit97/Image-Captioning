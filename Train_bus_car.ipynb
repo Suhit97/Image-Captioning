{
  "nbformat": 4,
  "nbformat_minor": 0,
  "metadata": {
    "colab": {
      "name": "Train_bus_car.ipynb",
      "provenance": [],
      "collapsed_sections": [],
      "include_colab_link": true
    },
    "kernelspec": {
      "name": "python3",
      "display_name": "Python 3"
    }
  },
  "cells": [
    {
      "cell_type": "markdown",
      "metadata": {
        "id": "view-in-github",
        "colab_type": "text"
      },
      "source": [
        "<a href=\"https://colab.research.google.com/github/Suhit97/Image-Captioning/blob/master/Train_bus_car.ipynb\" target=\"_parent\"><img src=\"https://colab.research.google.com/assets/colab-badge.svg\" alt=\"Open In Colab\"/></a>"
      ]
    },
    {
      "cell_type": "code",
      "metadata": {
        "colab": {
          "base_uri": "https://localhost:8080/"
        },
        "id": "pHGStpmL81SP",
        "outputId": "4439823d-f5db-4374-a749-eb610a866e6d"
      },
      "source": [
        "from google.colab import drive\n",
        "drive.mount('/content/gdrive')"
      ],
      "execution_count": 1,
      "outputs": [
        {
          "output_type": "stream",
          "text": [
            "Mounted at /content/gdrive\n"
          ],
          "name": "stdout"
        }
      ]
    },
    {
      "cell_type": "code",
      "metadata": {
        "colab": {
          "base_uri": "https://localhost:8080/"
        },
        "id": "JgZA-c5p9JAz",
        "outputId": "551fc052-0f5d-472b-b93b-43e4e78aa662"
      },
      "source": [
        "!pip install category_encoders"
      ],
      "execution_count": 6,
      "outputs": [
        {
          "output_type": "stream",
          "text": [
            "Collecting category_encoders\n",
            "\u001b[?25l  Downloading https://files.pythonhosted.org/packages/44/57/fcef41c248701ee62e8325026b90c432adea35555cbc870aff9cfba23727/category_encoders-2.2.2-py2.py3-none-any.whl (80kB)\n",
            "\u001b[K     |████████████████████████████████| 81kB 3.0MB/s \n",
            "\u001b[?25hRequirement already satisfied: numpy>=1.14.0 in /usr/local/lib/python3.6/dist-packages (from category_encoders) (1.18.5)\n",
            "Requirement already satisfied: scikit-learn>=0.20.0 in /usr/local/lib/python3.6/dist-packages (from category_encoders) (0.22.2.post1)\n",
            "Requirement already satisfied: pandas>=0.21.1 in /usr/local/lib/python3.6/dist-packages (from category_encoders) (1.1.4)\n",
            "Requirement already satisfied: statsmodels>=0.9.0 in /usr/local/lib/python3.6/dist-packages (from category_encoders) (0.10.2)\n",
            "Requirement already satisfied: patsy>=0.5.1 in /usr/local/lib/python3.6/dist-packages (from category_encoders) (0.5.1)\n",
            "Requirement already satisfied: scipy>=1.0.0 in /usr/local/lib/python3.6/dist-packages (from category_encoders) (1.4.1)\n",
            "Requirement already satisfied: joblib>=0.11 in /usr/local/lib/python3.6/dist-packages (from scikit-learn>=0.20.0->category_encoders) (0.17.0)\n",
            "Requirement already satisfied: pytz>=2017.2 in /usr/local/lib/python3.6/dist-packages (from pandas>=0.21.1->category_encoders) (2018.9)\n",
            "Requirement already satisfied: python-dateutil>=2.7.3 in /usr/local/lib/python3.6/dist-packages (from pandas>=0.21.1->category_encoders) (2.8.1)\n",
            "Requirement already satisfied: six in /usr/local/lib/python3.6/dist-packages (from patsy>=0.5.1->category_encoders) (1.15.0)\n",
            "Installing collected packages: category-encoders\n",
            "Successfully installed category-encoders-2.2.2\n"
          ],
          "name": "stdout"
        }
      ]
    },
    {
      "cell_type": "code",
      "metadata": {
        "id": "rS7H_yZCkyvO",
        "colab": {
          "base_uri": "https://localhost:8080/"
        },
        "outputId": "e850af70-aaf5-4dc9-a991-3e1552509a24"
      },
      "source": [
        "\n",
        "import pandas as pd\n",
        "from sklearn.tree import DecisionTreeClassifier\n",
        "from sklearn import tree\n",
        "import matplotlib.pyplot as plt\n",
        "import seaborn as sns\n",
        "import category_encoders as ce\n",
        "import graphviz \n"
      ],
      "execution_count": 7,
      "outputs": [
        {
          "output_type": "stream",
          "text": [
            "/usr/local/lib/python3.6/dist-packages/statsmodels/tools/_testing.py:19: FutureWarning: pandas.util.testing is deprecated. Use the functions in the public API at pandas.testing instead.\n",
            "  import pandas.util.testing as tm\n"
          ],
          "name": "stderr"
        }
      ]
    },
    {
      "cell_type": "code",
      "metadata": {
        "id": "NS51APwHmLRu"
      },
      "source": [
        "train = pd.read_excel('/content/gdrive/MyDrive/Gearge.xlsx',dtype={'Gender': str, 'Car_ownership': int, 'Travel': str, 'Income_level': str,'Transport': str})"
      ],
      "execution_count": 8,
      "outputs": []
    },
    {
      "cell_type": "code",
      "metadata": {
        "id": "irdpsWKhm0LY",
        "colab": {
          "base_uri": "https://localhost:8080/",
          "height": 363
        },
        "outputId": "648c111a-9068-47b5-c050-95f4161dc9a7"
      },
      "source": [
        "train.head(10)"
      ],
      "execution_count": 9,
      "outputs": [
        {
          "output_type": "execute_result",
          "data": {
            "text/html": [
              "<div>\n",
              "<style scoped>\n",
              "    .dataframe tbody tr th:only-of-type {\n",
              "        vertical-align: middle;\n",
              "    }\n",
              "\n",
              "    .dataframe tbody tr th {\n",
              "        vertical-align: top;\n",
              "    }\n",
              "\n",
              "    .dataframe thead th {\n",
              "        text-align: right;\n",
              "    }\n",
              "</style>\n",
              "<table border=\"1\" class=\"dataframe\">\n",
              "  <thead>\n",
              "    <tr style=\"text-align: right;\">\n",
              "      <th></th>\n",
              "      <th>Gender</th>\n",
              "      <th>Car_ownership</th>\n",
              "      <th>Travel</th>\n",
              "      <th>Income_Level</th>\n",
              "      <th>Transport</th>\n",
              "    </tr>\n",
              "  </thead>\n",
              "  <tbody>\n",
              "    <tr>\n",
              "      <th>0</th>\n",
              "      <td>Male</td>\n",
              "      <td>0</td>\n",
              "      <td>cheap</td>\n",
              "      <td>low</td>\n",
              "      <td>bus</td>\n",
              "    </tr>\n",
              "    <tr>\n",
              "      <th>1</th>\n",
              "      <td>Male</td>\n",
              "      <td>1</td>\n",
              "      <td>cheap</td>\n",
              "      <td>medium</td>\n",
              "      <td>bus</td>\n",
              "    </tr>\n",
              "    <tr>\n",
              "      <th>2</th>\n",
              "      <td>Female</td>\n",
              "      <td>1</td>\n",
              "      <td>cheap</td>\n",
              "      <td>medium</td>\n",
              "      <td>train</td>\n",
              "    </tr>\n",
              "    <tr>\n",
              "      <th>3</th>\n",
              "      <td>Female</td>\n",
              "      <td>0</td>\n",
              "      <td>cheap</td>\n",
              "      <td>low</td>\n",
              "      <td>bus</td>\n",
              "    </tr>\n",
              "    <tr>\n",
              "      <th>4</th>\n",
              "      <td>Male</td>\n",
              "      <td>1</td>\n",
              "      <td>cheap</td>\n",
              "      <td>medium</td>\n",
              "      <td>bus</td>\n",
              "    </tr>\n",
              "    <tr>\n",
              "      <th>5</th>\n",
              "      <td>Male</td>\n",
              "      <td>0</td>\n",
              "      <td>standard</td>\n",
              "      <td>medium</td>\n",
              "      <td>train</td>\n",
              "    </tr>\n",
              "    <tr>\n",
              "      <th>6</th>\n",
              "      <td>Female</td>\n",
              "      <td>1</td>\n",
              "      <td>standard</td>\n",
              "      <td>medium</td>\n",
              "      <td>train</td>\n",
              "    </tr>\n",
              "    <tr>\n",
              "      <th>7</th>\n",
              "      <td>Female</td>\n",
              "      <td>1</td>\n",
              "      <td>expensive</td>\n",
              "      <td>high</td>\n",
              "      <td>car</td>\n",
              "    </tr>\n",
              "    <tr>\n",
              "      <th>8</th>\n",
              "      <td>Male</td>\n",
              "      <td>2</td>\n",
              "      <td>expensive</td>\n",
              "      <td>medium</td>\n",
              "      <td>car</td>\n",
              "    </tr>\n",
              "    <tr>\n",
              "      <th>9</th>\n",
              "      <td>Female</td>\n",
              "      <td>2</td>\n",
              "      <td>expensive</td>\n",
              "      <td>high</td>\n",
              "      <td>car</td>\n",
              "    </tr>\n",
              "  </tbody>\n",
              "</table>\n",
              "</div>"
            ],
            "text/plain": [
              "   Gender  Car_ownership     Travel Income_Level Transport\n",
              "0    Male              0      cheap          low       bus\n",
              "1    Male              1      cheap       medium       bus\n",
              "2  Female              1      cheap       medium     train\n",
              "3  Female              0      cheap          low       bus\n",
              "4    Male              1      cheap       medium       bus\n",
              "5    Male              0   standard       medium     train\n",
              "6  Female              1   standard       medium     train\n",
              "7  Female              1  expensive         high       car\n",
              "8    Male              2  expensive       medium       car\n",
              "9  Female              2  expensive         high       car"
            ]
          },
          "metadata": {
            "tags": []
          },
          "execution_count": 9
        }
      ]
    },
    {
      "cell_type": "code",
      "metadata": {
        "id": "_-ijEUf-pLzB",
        "colab": {
          "base_uri": "https://localhost:8080/"
        },
        "outputId": "cae7eb1f-8721-432f-daf0-608a2ab73161"
      },
      "source": [
        "train.dtypes"
      ],
      "execution_count": 10,
      "outputs": [
        {
          "output_type": "execute_result",
          "data": {
            "text/plain": [
              "Gender           object\n",
              "Car_ownership     int64\n",
              "Travel           object\n",
              "Income_Level     object\n",
              "Transport        object\n",
              "dtype: object"
            ]
          },
          "metadata": {
            "tags": []
          },
          "execution_count": 10
        }
      ]
    },
    {
      "cell_type": "code",
      "metadata": {
        "id": "KwHfM38ytHSa",
        "colab": {
          "base_uri": "https://localhost:8080/"
        },
        "outputId": "6f4537ac-6266-4087-a198-08575b80bc62"
      },
      "source": [
        "encoder = ce.OrdinalEncoder(cols=['Gender', 'Car_ownership', 'Travel', 'Income_Level', 'Transport'])\n",
        "\n",
        "X_train = encoder.fit_transform(train)"
      ],
      "execution_count": 11,
      "outputs": [
        {
          "output_type": "stream",
          "text": [
            "/usr/local/lib/python3.6/dist-packages/category_encoders/utils.py:21: FutureWarning: is_categorical is deprecated and will be removed in a future version.  Use is_categorical_dtype instead\n",
            "  elif pd.api.types.is_categorical(cols):\n"
          ],
          "name": "stderr"
        }
      ]
    },
    {
      "cell_type": "code",
      "metadata": {
        "id": "eFX9GzLhtOwS",
        "colab": {
          "base_uri": "https://localhost:8080/",
          "height": 363
        },
        "outputId": "3d6e2b31-ce6a-4fe0-fb08-cb4b6e04f1fa"
      },
      "source": [
        "X_train.head(10)"
      ],
      "execution_count": 12,
      "outputs": [
        {
          "output_type": "execute_result",
          "data": {
            "text/html": [
              "<div>\n",
              "<style scoped>\n",
              "    .dataframe tbody tr th:only-of-type {\n",
              "        vertical-align: middle;\n",
              "    }\n",
              "\n",
              "    .dataframe tbody tr th {\n",
              "        vertical-align: top;\n",
              "    }\n",
              "\n",
              "    .dataframe thead th {\n",
              "        text-align: right;\n",
              "    }\n",
              "</style>\n",
              "<table border=\"1\" class=\"dataframe\">\n",
              "  <thead>\n",
              "    <tr style=\"text-align: right;\">\n",
              "      <th></th>\n",
              "      <th>Gender</th>\n",
              "      <th>Car_ownership</th>\n",
              "      <th>Travel</th>\n",
              "      <th>Income_Level</th>\n",
              "      <th>Transport</th>\n",
              "    </tr>\n",
              "  </thead>\n",
              "  <tbody>\n",
              "    <tr>\n",
              "      <th>0</th>\n",
              "      <td>1</td>\n",
              "      <td>1</td>\n",
              "      <td>1</td>\n",
              "      <td>1</td>\n",
              "      <td>1</td>\n",
              "    </tr>\n",
              "    <tr>\n",
              "      <th>1</th>\n",
              "      <td>1</td>\n",
              "      <td>2</td>\n",
              "      <td>1</td>\n",
              "      <td>2</td>\n",
              "      <td>1</td>\n",
              "    </tr>\n",
              "    <tr>\n",
              "      <th>2</th>\n",
              "      <td>2</td>\n",
              "      <td>2</td>\n",
              "      <td>1</td>\n",
              "      <td>2</td>\n",
              "      <td>2</td>\n",
              "    </tr>\n",
              "    <tr>\n",
              "      <th>3</th>\n",
              "      <td>2</td>\n",
              "      <td>1</td>\n",
              "      <td>1</td>\n",
              "      <td>1</td>\n",
              "      <td>1</td>\n",
              "    </tr>\n",
              "    <tr>\n",
              "      <th>4</th>\n",
              "      <td>1</td>\n",
              "      <td>2</td>\n",
              "      <td>1</td>\n",
              "      <td>2</td>\n",
              "      <td>1</td>\n",
              "    </tr>\n",
              "    <tr>\n",
              "      <th>5</th>\n",
              "      <td>1</td>\n",
              "      <td>1</td>\n",
              "      <td>2</td>\n",
              "      <td>2</td>\n",
              "      <td>2</td>\n",
              "    </tr>\n",
              "    <tr>\n",
              "      <th>6</th>\n",
              "      <td>2</td>\n",
              "      <td>2</td>\n",
              "      <td>2</td>\n",
              "      <td>2</td>\n",
              "      <td>2</td>\n",
              "    </tr>\n",
              "    <tr>\n",
              "      <th>7</th>\n",
              "      <td>2</td>\n",
              "      <td>2</td>\n",
              "      <td>3</td>\n",
              "      <td>3</td>\n",
              "      <td>3</td>\n",
              "    </tr>\n",
              "    <tr>\n",
              "      <th>8</th>\n",
              "      <td>1</td>\n",
              "      <td>3</td>\n",
              "      <td>3</td>\n",
              "      <td>2</td>\n",
              "      <td>3</td>\n",
              "    </tr>\n",
              "    <tr>\n",
              "      <th>9</th>\n",
              "      <td>2</td>\n",
              "      <td>3</td>\n",
              "      <td>3</td>\n",
              "      <td>3</td>\n",
              "      <td>3</td>\n",
              "    </tr>\n",
              "  </tbody>\n",
              "</table>\n",
              "</div>"
            ],
            "text/plain": [
              "   Gender  Car_ownership  Travel  Income_Level  Transport\n",
              "0       1              1       1             1          1\n",
              "1       1              2       1             2          1\n",
              "2       2              2       1             2          2\n",
              "3       2              1       1             1          1\n",
              "4       1              2       1             2          1\n",
              "5       1              1       2             2          2\n",
              "6       2              2       2             2          2\n",
              "7       2              2       3             3          3\n",
              "8       1              3       3             2          3\n",
              "9       2              3       3             3          3"
            ]
          },
          "metadata": {
            "tags": []
          },
          "execution_count": 12
        }
      ]
    },
    {
      "cell_type": "code",
      "metadata": {
        "id": "YU2Rwxbctut9",
        "colab": {
          "base_uri": "https://localhost:8080/",
          "height": 705
        },
        "outputId": "7ea69f78-2e47-48b2-efe2-ffd949c4369c"
      },
      "source": [
        "colormap = plt.cm.viridis\n",
        "plt.figure(figsize=(12,12))\n",
        "plt.title('Pearson Correlation of Features', y=1.05, size=15)\n",
        "sns.heatmap(X_train.astype(float).corr(),linewidths=0.1,vmax=1.0, square=True, cmap=colormap, linecolor='white', annot=True)"
      ],
      "execution_count": 13,
      "outputs": [
        {
          "output_type": "execute_result",
          "data": {
            "text/plain": [
              "<matplotlib.axes._subplots.AxesSubplot at 0x7f9c81373c50>"
            ]
          },
          "metadata": {
            "tags": []
          },
          "execution_count": 13
        },
        {
          "output_type": "display_data",
          "data": {
            "image/png": "[encoded data removed]",
            "text/plain": [
              "<Figure size 864x864 with 2 Axes>"
            ]
          },
          "metadata": {
            "tags": [],
            "needs_background": "light"
          }
        }
      ]
    },
    {
      "cell_type": "code",
      "metadata": {
        "id": "AVxz-MhnujlO"
      },
      "source": [
        "X = X_train.drop(['Transport'], axis=1)\n",
        "\n",
        "y = X_train['Transport']"
      ],
      "execution_count": 14,
      "outputs": []
    },
    {
      "cell_type": "markdown",
      "metadata": {
        "id": "Ykg_gPgtw7lF"
      },
      "source": [
        "## Decision Tree for depth 3"
      ]
    },
    {
      "cell_type": "code",
      "metadata": {
        "id": "nAIzzVNmurh8",
        "colab": {
          "base_uri": "https://localhost:8080/"
        },
        "outputId": "5e921fad-58b6-4132-d111-25edc92a4910"
      },
      "source": [
        "decision_tree = DecisionTreeClassifier(criterion='gini', max_depth=3)\n",
        "decision_tree.fit(X, y)"
      ],
      "execution_count": 15,
      "outputs": [
        {
          "output_type": "execute_result",
          "data": {
            "text/plain": [
              "DecisionTreeClassifier(ccp_alpha=0.0, class_weight=None, criterion='gini',\n",
              "                       max_depth=3, max_features=None, max_leaf_nodes=None,\n",
              "                       min_impurity_decrease=0.0, min_impurity_split=None,\n",
              "                       min_samples_leaf=1, min_samples_split=2,\n",
              "                       min_weight_fraction_leaf=0.0, presort='deprecated',\n",
              "                       random_state=None, splitter='best')"
            ]
          },
          "metadata": {
            "tags": []
          },
          "execution_count": 15
        }
      ]
    },
    {
      "cell_type": "code",
      "metadata": {
        "id": "mugiiqraviwz",
        "colab": {
          "base_uri": "https://localhost:8080/",
          "height": 598
        },
        "outputId": "54c65ea5-ef16-41c3-94b3-d633e6d8ad02"
      },
      "source": [
        " \n",
        "dot_data = tree.export_graphviz(decision_tree, out_file=None,\n",
        "                               feature_names=['Gender', 'Car_ownership', 'Travel', 'Income_Level'],\n",
        "                               class_names=['bus','train', 'car'],filled=True,\n",
        "                                rounded=True,  \n",
        "                              special_characters=True) \n",
        "graph = graphviz.Source(dot_data)\n",
        "graph.render(\"Gini\")\n",
        "graph"
      ],
      "execution_count": 16,
      "outputs": [
        {
          "output_type": "execute_result",
          "data": {
            "text/plain": [
              "<graphviz.files.Source at 0x7f9c7f238550>"
            ],
            "image/svg+xml": "<?xml version=\"1.0\" encoding=\"UTF-8\" standalone=\"no\"?>\n<!DOCTYPE svg PUBLIC \"-//W3C//DTD SVG 1.1//EN\"\n \"http://www.w3.org/Graphics/SVG/1.1/DTD/svg11.dtd\">\n<!-- Generated by graphviz version 2.40.1 (20161225.0304)\n -->\n<!-- Title: Tree Pages: 1 -->\n<svg width=\"388pt\" height=\"433pt\"\n viewBox=\"0.00 0.00 388.00 433.00\" xmlns=\"http://www.w3.org/2000/svg\" xmlns:xlink=\"http://www.w3.org/1999/xlink\">\n<g id=\"graph0\" class=\"graph\" transform=\"scale(1 1) rotate(0) translate(4 429)\">\n<title>Tree</title>\n<polygon fill=\"#ffffff\" stroke=\"transparent\" points=\"-4,4 -4,-429 384,-429 384,4 -4,4\"/>\n<!-- 0 -->\n<g id=\"node1\" class=\"node\">\n<title>0</title>\n<path fill=\"#fbede3\" stroke=\"#000000\" d=\"M301,-425C301,-425 210,-425 210,-425 204,-425 198,-419 198,-413 198,-413 198,-354 198,-354 198,-348 204,-342 210,-342 210,-342 301,-342 301,-342 307,-342 313,-348 313,-354 313,-354 313,-413 313,-413 313,-419 307,-425 301,-425\"/>\n<text text-anchor=\"start\" x=\"217.5\" y=\"-409.8\" font-family=\"Helvetica,sans-Serif\" font-size=\"14.00\" fill=\"#000000\">Travel ≤ 2.5</text>\n<text text-anchor=\"start\" x=\"222\" y=\"-394.8\" font-family=\"Helvetica,sans-Serif\" font-size=\"14.00\" fill=\"#000000\">gini = 0.66</text>\n<text text-anchor=\"start\" x=\"211.5\" y=\"-379.8\" font-family=\"Helvetica,sans-Serif\" font-size=\"14.00\" fill=\"#000000\">samples = 10</text>\n<text text-anchor=\"start\" x=\"206\" y=\"-364.8\" font-family=\"Helvetica,sans-Serif\" font-size=\"14.00\" fill=\"#000000\">value = [4, 3, 3]</text>\n<text text-anchor=\"start\" x=\"218.5\" y=\"-349.8\" font-family=\"Helvetica,sans-Serif\" font-size=\"14.00\" fill=\"#000000\">class = bus</text>\n</g>\n<!-- 1 -->\n<g id=\"node2\" class=\"node\">\n<title>1</title>\n<path fill=\"#f8e0ce\" stroke=\"#000000\" d=\"M235,-306C235,-306 144,-306 144,-306 138,-306 132,-300 132,-294 132,-294 132,-235 132,-235 132,-229 138,-223 144,-223 144,-223 235,-223 235,-223 241,-223 247,-229 247,-235 247,-235 247,-294 247,-294 247,-300 241,-306 235,-306\"/>\n<text text-anchor=\"start\" x=\"151.5\" y=\"-290.8\" font-family=\"Helvetica,sans-Serif\" font-size=\"14.00\" fill=\"#000000\">Travel ≤ 1.5</text>\n<text text-anchor=\"start\" x=\"156\" y=\"-275.8\" font-family=\"Helvetica,sans-Serif\" font-size=\"14.00\" fill=\"#000000\">gini = 0.49</text>\n<text text-anchor=\"start\" x=\"150\" y=\"-260.8\" font-family=\"Helvetica,sans-Serif\" font-size=\"14.00\" fill=\"#000000\">samples = 7</text>\n<text text-anchor=\"start\" x=\"140\" y=\"-245.8\" font-family=\"Helvetica,sans-Serif\" font-size=\"14.00\" fill=\"#000000\">value = [4, 3, 0]</text>\n<text text-anchor=\"start\" x=\"152.5\" y=\"-230.8\" font-family=\"Helvetica,sans-Serif\" font-size=\"14.00\" fill=\"#000000\">class = bus</text>\n</g>\n<!-- 0&#45;&gt;1 -->\n<g id=\"edge1\" class=\"edge\">\n<title>0&#45;&gt;1</title>\n<path fill=\"none\" stroke=\"#000000\" d=\"M232.4164,-341.8796C227.6211,-333.2335 222.5178,-324.0322 217.5662,-315.1042\"/>\n<polygon fill=\"#000000\" stroke=\"#000000\" points=\"220.5931,-313.3455 212.6821,-306.2981 214.4716,-316.7407 220.5931,-313.3455\"/>\n<text text-anchor=\"middle\" x=\"205.7969\" y=\"-326.6313\" font-family=\"Helvetica,sans-Serif\" font-size=\"14.00\" fill=\"#000000\">True</text>\n</g>\n<!-- 6 -->\n<g id=\"node7\" class=\"node\">\n<title>6</title>\n<path fill=\"#8139e5\" stroke=\"#000000\" d=\"M368,-298.5C368,-298.5 277,-298.5 277,-298.5 271,-298.5 265,-292.5 265,-286.5 265,-286.5 265,-242.5 265,-242.5 265,-236.5 271,-230.5 277,-230.5 277,-230.5 368,-230.5 368,-230.5 374,-230.5 380,-236.5 380,-242.5 380,-242.5 380,-286.5 380,-286.5 380,-292.5 374,-298.5 368,-298.5\"/>\n<text text-anchor=\"start\" x=\"293\" y=\"-283.3\" font-family=\"Helvetica,sans-Serif\" font-size=\"14.00\" fill=\"#000000\">gini = 0.0</text>\n<text text-anchor=\"start\" x=\"283\" y=\"-268.3\" font-family=\"Helvetica,sans-Serif\" font-size=\"14.00\" fill=\"#000000\">samples = 3</text>\n<text text-anchor=\"start\" x=\"273\" y=\"-253.3\" font-family=\"Helvetica,sans-Serif\" font-size=\"14.00\" fill=\"#000000\">value = [0, 0, 3]</text>\n<text text-anchor=\"start\" x=\"287.5\" y=\"-238.3\" font-family=\"Helvetica,sans-Serif\" font-size=\"14.00\" fill=\"#000000\">class = car</text>\n</g>\n<!-- 0&#45;&gt;6 -->\n<g id=\"edge6\" class=\"edge\">\n<title>0&#45;&gt;6</title>\n<path fill=\"none\" stroke=\"#000000\" d=\"M278.9333,-341.8796C285.1863,-330.7735 291.9552,-318.7513 298.251,-307.5691\"/>\n<polygon fill=\"#000000\" stroke=\"#000000\" points=\"301.3235,-309.2459 303.1798,-298.8149 295.2239,-305.8116 301.3235,-309.2459\"/>\n<text text-anchor=\"middle\" x=\"309.911\" y=\"-319.1917\" font-family=\"Helvetica,sans-Serif\" font-size=\"14.00\" fill=\"#000000\">False</text>\n</g>\n<!-- 2 -->\n<g id=\"node3\" class=\"node\">\n<title>2</title>\n<path fill=\"#eca06a\" stroke=\"#000000\" d=\"M169,-187C169,-187 78,-187 78,-187 72,-187 66,-181 66,-175 66,-175 66,-116 66,-116 66,-110 72,-104 78,-104 78,-104 169,-104 169,-104 175,-104 181,-110 181,-116 181,-116 181,-175 181,-175 181,-181 175,-187 169,-187\"/>\n<text text-anchor=\"start\" x=\"81\" y=\"-171.8\" font-family=\"Helvetica,sans-Serif\" font-size=\"14.00\" fill=\"#000000\">Gender ≤ 1.5</text>\n<text text-anchor=\"start\" x=\"90\" y=\"-156.8\" font-family=\"Helvetica,sans-Serif\" font-size=\"14.00\" fill=\"#000000\">gini = 0.32</text>\n<text text-anchor=\"start\" x=\"84\" y=\"-141.8\" font-family=\"Helvetica,sans-Serif\" font-size=\"14.00\" fill=\"#000000\">samples = 5</text>\n<text text-anchor=\"start\" x=\"74\" y=\"-126.8\" font-family=\"Helvetica,sans-Serif\" font-size=\"14.00\" fill=\"#000000\">value = [4, 1, 0]</text>\n<text text-anchor=\"start\" x=\"86.5\" y=\"-111.8\" font-family=\"Helvetica,sans-Serif\" font-size=\"14.00\" fill=\"#000000\">class = bus</text>\n</g>\n<!-- 1&#45;&gt;2 -->\n<g id=\"edge2\" class=\"edge\">\n<title>1&#45;&gt;2</title>\n<path fill=\"none\" stroke=\"#000000\" d=\"M166.4164,-222.8796C161.6211,-214.2335 156.5178,-205.0322 151.5662,-196.1042\"/>\n<polygon fill=\"#000000\" stroke=\"#000000\" points=\"154.5931,-194.3455 146.6821,-187.2981 148.4716,-197.7407 154.5931,-194.3455\"/>\n</g>\n<!-- 5 -->\n<g id=\"node6\" class=\"node\">\n<title>5</title>\n<path fill=\"#39e581\" stroke=\"#000000\" d=\"M302,-179.5C302,-179.5 211,-179.5 211,-179.5 205,-179.5 199,-173.5 199,-167.5 199,-167.5 199,-123.5 199,-123.5 199,-117.5 205,-111.5 211,-111.5 211,-111.5 302,-111.5 302,-111.5 308,-111.5 314,-117.5 314,-123.5 314,-123.5 314,-167.5 314,-167.5 314,-173.5 308,-179.5 302,-179.5\"/>\n<text text-anchor=\"start\" x=\"227\" y=\"-164.3\" font-family=\"Helvetica,sans-Serif\" font-size=\"14.00\" fill=\"#000000\">gini = 0.0</text>\n<text text-anchor=\"start\" x=\"217\" y=\"-149.3\" font-family=\"Helvetica,sans-Serif\" font-size=\"14.00\" fill=\"#000000\">samples = 2</text>\n<text text-anchor=\"start\" x=\"207\" y=\"-134.3\" font-family=\"Helvetica,sans-Serif\" font-size=\"14.00\" fill=\"#000000\">value = [0, 2, 0]</text>\n<text text-anchor=\"start\" x=\"217.5\" y=\"-119.3\" font-family=\"Helvetica,sans-Serif\" font-size=\"14.00\" fill=\"#000000\">class = train</text>\n</g>\n<!-- 1&#45;&gt;5 -->\n<g id=\"edge5\" class=\"edge\">\n<title>1&#45;&gt;5</title>\n<path fill=\"none\" stroke=\"#000000\" d=\"M212.9333,-222.8796C219.1863,-211.7735 225.9552,-199.7513 232.251,-188.5691\"/>\n<polygon fill=\"#000000\" stroke=\"#000000\" points=\"235.3235,-190.2459 237.1798,-179.8149 229.2239,-186.8116 235.3235,-190.2459\"/>\n</g>\n<!-- 3 -->\n<g id=\"node4\" class=\"node\">\n<title>3</title>\n<path fill=\"#e58139\" stroke=\"#000000\" d=\"M103,-68C103,-68 12,-68 12,-68 6,-68 0,-62 0,-56 0,-56 0,-12 0,-12 0,-6 6,0 12,0 12,0 103,0 103,0 109,0 115,-6 115,-12 115,-12 115,-56 115,-56 115,-62 109,-68 103,-68\"/>\n<text text-anchor=\"start\" x=\"28\" y=\"-52.8\" font-family=\"Helvetica,sans-Serif\" font-size=\"14.00\" fill=\"#000000\">gini = 0.0</text>\n<text text-anchor=\"start\" x=\"18\" y=\"-37.8\" font-family=\"Helvetica,sans-Serif\" font-size=\"14.00\" fill=\"#000000\">samples = 3</text>\n<text text-anchor=\"start\" x=\"8\" y=\"-22.8\" font-family=\"Helvetica,sans-Serif\" font-size=\"14.00\" fill=\"#000000\">value = [3, 0, 0]</text>\n<text text-anchor=\"start\" x=\"20.5\" y=\"-7.8\" font-family=\"Helvetica,sans-Serif\" font-size=\"14.00\" fill=\"#000000\">class = bus</text>\n</g>\n<!-- 2&#45;&gt;3 -->\n<g id=\"edge3\" class=\"edge\">\n<title>2&#45;&gt;3</title>\n<path fill=\"none\" stroke=\"#000000\" d=\"M98.924,-103.9815C93.7014,-95.1585 88.1771,-85.8258 82.9237,-76.9506\"/>\n<polygon fill=\"#000000\" stroke=\"#000000\" points=\"85.8874,-75.0863 77.7816,-68.2637 79.8636,-78.652 85.8874,-75.0863\"/>\n</g>\n<!-- 4 -->\n<g id=\"node5\" class=\"node\">\n<title>4</title>\n<path fill=\"#ffffff\" stroke=\"#000000\" d=\"M236,-68C236,-68 145,-68 145,-68 139,-68 133,-62 133,-56 133,-56 133,-12 133,-12 133,-6 139,0 145,0 145,0 236,0 236,0 242,0 248,-6 248,-12 248,-12 248,-56 248,-56 248,-62 242,-68 236,-68\"/>\n<text text-anchor=\"start\" x=\"161\" y=\"-52.8\" font-family=\"Helvetica,sans-Serif\" font-size=\"14.00\" fill=\"#000000\">gini = 0.5</text>\n<text text-anchor=\"start\" x=\"151\" y=\"-37.8\" font-family=\"Helvetica,sans-Serif\" font-size=\"14.00\" fill=\"#000000\">samples = 2</text>\n<text text-anchor=\"start\" x=\"141\" y=\"-22.8\" font-family=\"Helvetica,sans-Serif\" font-size=\"14.00\" fill=\"#000000\">value = [1, 1, 0]</text>\n<text text-anchor=\"start\" x=\"153.5\" y=\"-7.8\" font-family=\"Helvetica,sans-Serif\" font-size=\"14.00\" fill=\"#000000\">class = bus</text>\n</g>\n<!-- 2&#45;&gt;4 -->\n<g id=\"edge4\" class=\"edge\">\n<title>2&#45;&gt;4</title>\n<path fill=\"none\" stroke=\"#000000\" d=\"M148.4483,-103.9815C153.7501,-95.1585 159.3581,-85.8258 164.6911,-76.9506\"/>\n<polygon fill=\"#000000\" stroke=\"#000000\" points=\"167.7605,-78.638 169.9111,-68.2637 161.7604,-75.0325 167.7605,-78.638\"/>\n</g>\n</g>\n</svg>\n"
          },
          "metadata": {
            "tags": []
          },
          "execution_count": 16
        }
      ]
    },
    {
      "cell_type": "markdown",
      "metadata": {
        "id": "1YlP5hQuw1xt"
      },
      "source": [
        "## Changing Depth to 5"
      ]
    },
    {
      "cell_type": "code",
      "metadata": {
        "id": "EsuUml7HwpvK",
        "colab": {
          "base_uri": "https://localhost:8080/"
        },
        "outputId": "c1dcc421-b9b1-467d-d63a-1f5e4697a588"
      },
      "source": [
        "decision_tree1 = DecisionTreeClassifier(criterion='gini', max_depth=5)\n",
        "decision_tree1.fit(X, y)"
      ],
      "execution_count": 17,
      "outputs": [
        {
          "output_type": "execute_result",
          "data": {
            "text/plain": [
              "DecisionTreeClassifier(ccp_alpha=0.0, class_weight=None, criterion='gini',\n",
              "                       max_depth=5, max_features=None, max_leaf_nodes=None,\n",
              "                       min_impurity_decrease=0.0, min_impurity_split=None,\n",
              "                       min_samples_leaf=1, min_samples_split=2,\n",
              "                       min_weight_fraction_leaf=0.0, presort='deprecated',\n",
              "                       random_state=None, splitter='best')"
            ]
          },
          "metadata": {
            "tags": []
          },
          "execution_count": 17
        }
      ]
    },
    {
      "cell_type": "code",
      "metadata": {
        "id": "nCYUNgOxwWY3",
        "colab": {
          "base_uri": "https://localhost:8080/",
          "height": 757
        },
        "outputId": "a8abe27c-cc97-487b-d7eb-8f7abc5f1333"
      },
      "source": [
        "dot_data = tree.export_graphviz(decision_tree1, out_file=None,\n",
        "                               feature_names=['Gender', 'Car_ownership', 'Travel', 'Income_Level'],\n",
        "                               class_names=['bus','train', 'car'],filled=True,\n",
        "                                rounded=True,  \n",
        "                              special_characters=True) \n",
        "graph = graphviz.Source(dot_data)\n",
        "graph.render(\"Gini\")\n",
        "graph"
      ],
      "execution_count": 18,
      "outputs": [
        {
          "output_type": "execute_result",
          "data": {
            "text/plain": [
              "<graphviz.files.Source at 0x7f9c7f2385f8>"
            ],
            "image/svg+xml": "<?xml version=\"1.0\" encoding=\"UTF-8\" standalone=\"no\"?>\n<!DOCTYPE svg PUBLIC \"-//W3C//DTD SVG 1.1//EN\"\n \"http://www.w3.org/Graphics/SVG/1.1/DTD/svg11.dtd\">\n<!-- Generated by graphviz version 2.40.1 (20161225.0304)\n -->\n<!-- Title: Tree Pages: 1 -->\n<svg width=\"395pt\" height=\"552pt\"\n viewBox=\"0.00 0.00 395.00 552.00\" xmlns=\"http://www.w3.org/2000/svg\" xmlns:xlink=\"http://www.w3.org/1999/xlink\">\n<g id=\"graph0\" class=\"graph\" transform=\"scale(1 1) rotate(0) translate(4 548)\">\n<title>Tree</title>\n<polygon fill=\"#ffffff\" stroke=\"transparent\" points=\"-4,4 -4,-548 391,-548 391,4 -4,4\"/>\n<!-- 0 -->\n<g id=\"node1\" class=\"node\">\n<title>0</title>\n<path fill=\"#fbede3\" stroke=\"#000000\" d=\"M308,-544C308,-544 217,-544 217,-544 211,-544 205,-538 205,-532 205,-532 205,-473 205,-473 205,-467 211,-461 217,-461 217,-461 308,-461 308,-461 314,-461 320,-467 320,-473 320,-473 320,-532 320,-532 320,-538 314,-544 308,-544\"/>\n<text text-anchor=\"start\" x=\"224.5\" y=\"-528.8\" font-family=\"Helvetica,sans-Serif\" font-size=\"14.00\" fill=\"#000000\">Travel ≤ 2.5</text>\n<text text-anchor=\"start\" x=\"229\" y=\"-513.8\" font-family=\"Helvetica,sans-Serif\" font-size=\"14.00\" fill=\"#000000\">gini = 0.66</text>\n<text text-anchor=\"start\" x=\"218.5\" y=\"-498.8\" font-family=\"Helvetica,sans-Serif\" font-size=\"14.00\" fill=\"#000000\">samples = 10</text>\n<text text-anchor=\"start\" x=\"213\" y=\"-483.8\" font-family=\"Helvetica,sans-Serif\" font-size=\"14.00\" fill=\"#000000\">value = [4, 3, 3]</text>\n<text text-anchor=\"start\" x=\"225.5\" y=\"-468.8\" font-family=\"Helvetica,sans-Serif\" font-size=\"14.00\" fill=\"#000000\">class = bus</text>\n</g>\n<!-- 1 -->\n<g id=\"node2\" class=\"node\">\n<title>1</title>\n<path fill=\"#f8e0ce\" stroke=\"#000000\" d=\"M242,-425C242,-425 151,-425 151,-425 145,-425 139,-419 139,-413 139,-413 139,-354 139,-354 139,-348 145,-342 151,-342 151,-342 242,-342 242,-342 248,-342 254,-348 254,-354 254,-354 254,-413 254,-413 254,-419 248,-425 242,-425\"/>\n<text text-anchor=\"start\" x=\"158.5\" y=\"-409.8\" font-family=\"Helvetica,sans-Serif\" font-size=\"14.00\" fill=\"#000000\">Travel ≤ 1.5</text>\n<text text-anchor=\"start\" x=\"163\" y=\"-394.8\" font-family=\"Helvetica,sans-Serif\" font-size=\"14.00\" fill=\"#000000\">gini = 0.49</text>\n<text text-anchor=\"start\" x=\"157\" y=\"-379.8\" font-family=\"Helvetica,sans-Serif\" font-size=\"14.00\" fill=\"#000000\">samples = 7</text>\n<text text-anchor=\"start\" x=\"147\" y=\"-364.8\" font-family=\"Helvetica,sans-Serif\" font-size=\"14.00\" fill=\"#000000\">value = [4, 3, 0]</text>\n<text text-anchor=\"start\" x=\"159.5\" y=\"-349.8\" font-family=\"Helvetica,sans-Serif\" font-size=\"14.00\" fill=\"#000000\">class = bus</text>\n</g>\n<!-- 0&#45;&gt;1 -->\n<g id=\"edge1\" class=\"edge\">\n<title>0&#45;&gt;1</title>\n<path fill=\"none\" stroke=\"#000000\" d=\"M239.4164,-460.8796C234.6211,-452.2335 229.5178,-443.0322 224.5662,-434.1042\"/>\n<polygon fill=\"#000000\" stroke=\"#000000\" points=\"227.5931,-432.3455 219.6821,-425.2981 221.4716,-435.7407 227.5931,-432.3455\"/>\n<text text-anchor=\"middle\" x=\"212.7969\" y=\"-445.6313\" font-family=\"Helvetica,sans-Serif\" font-size=\"14.00\" fill=\"#000000\">True</text>\n</g>\n<!-- 8 -->\n<g id=\"node9\" class=\"node\">\n<title>8</title>\n<path fill=\"#8139e5\" stroke=\"#000000\" d=\"M375,-417.5C375,-417.5 284,-417.5 284,-417.5 278,-417.5 272,-411.5 272,-405.5 272,-405.5 272,-361.5 272,-361.5 272,-355.5 278,-349.5 284,-349.5 284,-349.5 375,-349.5 375,-349.5 381,-349.5 387,-355.5 387,-361.5 387,-361.5 387,-405.5 387,-405.5 387,-411.5 381,-417.5 375,-417.5\"/>\n<text text-anchor=\"start\" x=\"300\" y=\"-402.3\" font-family=\"Helvetica,sans-Serif\" font-size=\"14.00\" fill=\"#000000\">gini = 0.0</text>\n<text text-anchor=\"start\" x=\"290\" y=\"-387.3\" font-family=\"Helvetica,sans-Serif\" font-size=\"14.00\" fill=\"#000000\">samples = 3</text>\n<text text-anchor=\"start\" x=\"280\" y=\"-372.3\" font-family=\"Helvetica,sans-Serif\" font-size=\"14.00\" fill=\"#000000\">value = [0, 0, 3]</text>\n<text text-anchor=\"start\" x=\"294.5\" y=\"-357.3\" font-family=\"Helvetica,sans-Serif\" font-size=\"14.00\" fill=\"#000000\">class = car</text>\n</g>\n<!-- 0&#45;&gt;8 -->\n<g id=\"edge8\" class=\"edge\">\n<title>0&#45;&gt;8</title>\n<path fill=\"none\" stroke=\"#000000\" d=\"M285.9333,-460.8796C292.1863,-449.7735 298.9552,-437.7513 305.251,-426.5691\"/>\n<polygon fill=\"#000000\" stroke=\"#000000\" points=\"308.3235,-428.2459 310.1798,-417.8149 302.2239,-424.8116 308.3235,-428.2459\"/>\n<text text-anchor=\"middle\" x=\"316.911\" y=\"-438.1917\" font-family=\"Helvetica,sans-Serif\" font-size=\"14.00\" fill=\"#000000\">False</text>\n</g>\n<!-- 2 -->\n<g id=\"node3\" class=\"node\">\n<title>2</title>\n<path fill=\"#eca06a\" stroke=\"#000000\" d=\"M176,-306C176,-306 85,-306 85,-306 79,-306 73,-300 73,-294 73,-294 73,-235 73,-235 73,-229 79,-223 85,-223 85,-223 176,-223 176,-223 182,-223 188,-229 188,-235 188,-235 188,-294 188,-294 188,-300 182,-306 176,-306\"/>\n<text text-anchor=\"start\" x=\"88\" y=\"-290.8\" font-family=\"Helvetica,sans-Serif\" font-size=\"14.00\" fill=\"#000000\">Gender ≤ 1.5</text>\n<text text-anchor=\"start\" x=\"97\" y=\"-275.8\" font-family=\"Helvetica,sans-Serif\" font-size=\"14.00\" fill=\"#000000\">gini = 0.32</text>\n<text text-anchor=\"start\" x=\"91\" y=\"-260.8\" font-family=\"Helvetica,sans-Serif\" font-size=\"14.00\" fill=\"#000000\">samples = 5</text>\n<text text-anchor=\"start\" x=\"81\" y=\"-245.8\" font-family=\"Helvetica,sans-Serif\" font-size=\"14.00\" fill=\"#000000\">value = [4, 1, 0]</text>\n<text text-anchor=\"start\" x=\"93.5\" y=\"-230.8\" font-family=\"Helvetica,sans-Serif\" font-size=\"14.00\" fill=\"#000000\">class = bus</text>\n</g>\n<!-- 1&#45;&gt;2 -->\n<g id=\"edge2\" class=\"edge\">\n<title>1&#45;&gt;2</title>\n<path fill=\"none\" stroke=\"#000000\" d=\"M173.4164,-341.8796C168.6211,-333.2335 163.5178,-324.0322 158.5662,-315.1042\"/>\n<polygon fill=\"#000000\" stroke=\"#000000\" points=\"161.5931,-313.3455 153.6821,-306.2981 155.4716,-316.7407 161.5931,-313.3455\"/>\n</g>\n<!-- 7 -->\n<g id=\"node8\" class=\"node\">\n<title>7</title>\n<path fill=\"#39e581\" stroke=\"#000000\" d=\"M309,-298.5C309,-298.5 218,-298.5 218,-298.5 212,-298.5 206,-292.5 206,-286.5 206,-286.5 206,-242.5 206,-242.5 206,-236.5 212,-230.5 218,-230.5 218,-230.5 309,-230.5 309,-230.5 315,-230.5 321,-236.5 321,-242.5 321,-242.5 321,-286.5 321,-286.5 321,-292.5 315,-298.5 309,-298.5\"/>\n<text text-anchor=\"start\" x=\"234\" y=\"-283.3\" font-family=\"Helvetica,sans-Serif\" font-size=\"14.00\" fill=\"#000000\">gini = 0.0</text>\n<text text-anchor=\"start\" x=\"224\" y=\"-268.3\" font-family=\"Helvetica,sans-Serif\" font-size=\"14.00\" fill=\"#000000\">samples = 2</text>\n<text text-anchor=\"start\" x=\"214\" y=\"-253.3\" font-family=\"Helvetica,sans-Serif\" font-size=\"14.00\" fill=\"#000000\">value = [0, 2, 0]</text>\n<text text-anchor=\"start\" x=\"224.5\" y=\"-238.3\" font-family=\"Helvetica,sans-Serif\" font-size=\"14.00\" fill=\"#000000\">class = train</text>\n</g>\n<!-- 1&#45;&gt;7 -->\n<g id=\"edge7\" class=\"edge\">\n<title>1&#45;&gt;7</title>\n<path fill=\"none\" stroke=\"#000000\" d=\"M219.9333,-341.8796C226.1863,-330.7735 232.9552,-318.7513 239.251,-307.5691\"/>\n<polygon fill=\"#000000\" stroke=\"#000000\" points=\"242.3235,-309.2459 244.1798,-298.8149 236.2239,-305.8116 242.3235,-309.2459\"/>\n</g>\n<!-- 3 -->\n<g id=\"node4\" class=\"node\">\n<title>3</title>\n<path fill=\"#e58139\" stroke=\"#000000\" d=\"M103,-179.5C103,-179.5 12,-179.5 12,-179.5 6,-179.5 0,-173.5 0,-167.5 0,-167.5 0,-123.5 0,-123.5 0,-117.5 6,-111.5 12,-111.5 12,-111.5 103,-111.5 103,-111.5 109,-111.5 115,-117.5 115,-123.5 115,-123.5 115,-167.5 115,-167.5 115,-173.5 109,-179.5 103,-179.5\"/>\n<text text-anchor=\"start\" x=\"28\" y=\"-164.3\" font-family=\"Helvetica,sans-Serif\" font-size=\"14.00\" fill=\"#000000\">gini = 0.0</text>\n<text text-anchor=\"start\" x=\"18\" y=\"-149.3\" font-family=\"Helvetica,sans-Serif\" font-size=\"14.00\" fill=\"#000000\">samples = 3</text>\n<text text-anchor=\"start\" x=\"8\" y=\"-134.3\" font-family=\"Helvetica,sans-Serif\" font-size=\"14.00\" fill=\"#000000\">value = [3, 0, 0]</text>\n<text text-anchor=\"start\" x=\"20.5\" y=\"-119.3\" font-family=\"Helvetica,sans-Serif\" font-size=\"14.00\" fill=\"#000000\">class = bus</text>\n</g>\n<!-- 2&#45;&gt;3 -->\n<g id=\"edge3\" class=\"edge\">\n<title>2&#45;&gt;3</title>\n<path fill=\"none\" stroke=\"#000000\" d=\"M104.9681,-222.8796C98.1552,-211.7735 90.7802,-199.7513 83.9206,-188.5691\"/>\n<polygon fill=\"#000000\" stroke=\"#000000\" points=\"86.7628,-186.5087 78.5503,-179.8149 80.796,-190.1691 86.7628,-186.5087\"/>\n</g>\n<!-- 4 -->\n<g id=\"node5\" class=\"node\">\n<title>4</title>\n<path fill=\"#ffffff\" stroke=\"#000000\" d=\"M264,-187C264,-187 145,-187 145,-187 139,-187 133,-181 133,-175 133,-175 133,-116 133,-116 133,-110 139,-104 145,-104 145,-104 264,-104 264,-104 270,-104 276,-110 276,-116 276,-116 276,-175 276,-175 276,-181 270,-187 264,-187\"/>\n<text text-anchor=\"start\" x=\"141\" y=\"-171.8\" font-family=\"Helvetica,sans-Serif\" font-size=\"14.00\" fill=\"#000000\">Income_Level ≤ 1.5</text>\n<text text-anchor=\"start\" x=\"175\" y=\"-156.8\" font-family=\"Helvetica,sans-Serif\" font-size=\"14.00\" fill=\"#000000\">gini = 0.5</text>\n<text text-anchor=\"start\" x=\"165\" y=\"-141.8\" font-family=\"Helvetica,sans-Serif\" font-size=\"14.00\" fill=\"#000000\">samples = 2</text>\n<text text-anchor=\"start\" x=\"155\" y=\"-126.8\" font-family=\"Helvetica,sans-Serif\" font-size=\"14.00\" fill=\"#000000\">value = [1, 1, 0]</text>\n<text text-anchor=\"start\" x=\"167.5\" y=\"-111.8\" font-family=\"Helvetica,sans-Serif\" font-size=\"14.00\" fill=\"#000000\">class = bus</text>\n</g>\n<!-- 2&#45;&gt;4 -->\n<g id=\"edge4\" class=\"edge\">\n<title>2&#45;&gt;4</title>\n<path fill=\"none\" stroke=\"#000000\" d=\"M156.3816,-222.8796C161.8142,-214.1434 167.5992,-204.8404 173.2053,-195.8253\"/>\n<polygon fill=\"#000000\" stroke=\"#000000\" points=\"176.1993,-197.6383 178.5079,-187.2981 170.2549,-193.9418 176.1993,-197.6383\"/>\n</g>\n<!-- 5 -->\n<g id=\"node6\" class=\"node\">\n<title>5</title>\n<path fill=\"#e58139\" stroke=\"#000000\" d=\"M183,-68C183,-68 92,-68 92,-68 86,-68 80,-62 80,-56 80,-56 80,-12 80,-12 80,-6 86,0 92,0 92,0 183,0 183,0 189,0 195,-6 195,-12 195,-12 195,-56 195,-56 195,-62 189,-68 183,-68\"/>\n<text text-anchor=\"start\" x=\"108\" y=\"-52.8\" font-family=\"Helvetica,sans-Serif\" font-size=\"14.00\" fill=\"#000000\">gini = 0.0</text>\n<text text-anchor=\"start\" x=\"98\" y=\"-37.8\" font-family=\"Helvetica,sans-Serif\" font-size=\"14.00\" fill=\"#000000\">samples = 1</text>\n<text text-anchor=\"start\" x=\"88\" y=\"-22.8\" font-family=\"Helvetica,sans-Serif\" font-size=\"14.00\" fill=\"#000000\">value = [1, 0, 0]</text>\n<text text-anchor=\"start\" x=\"100.5\" y=\"-7.8\" font-family=\"Helvetica,sans-Serif\" font-size=\"14.00\" fill=\"#000000\">class = bus</text>\n</g>\n<!-- 4&#45;&gt;5 -->\n<g id=\"edge5\" class=\"edge\">\n<title>4&#45;&gt;5</title>\n<path fill=\"none\" stroke=\"#000000\" d=\"M179.5517,-103.9815C174.2499,-95.1585 168.6419,-85.8258 163.3089,-76.9506\"/>\n<polygon fill=\"#000000\" stroke=\"#000000\" points=\"166.2396,-75.0325 158.0889,-68.2637 160.2395,-78.638 166.2396,-75.0325\"/>\n</g>\n<!-- 6 -->\n<g id=\"node7\" class=\"node\">\n<title>6</title>\n<path fill=\"#39e581\" stroke=\"#000000\" d=\"M316,-68C316,-68 225,-68 225,-68 219,-68 213,-62 213,-56 213,-56 213,-12 213,-12 213,-6 219,0 225,0 225,0 316,0 316,0 322,0 328,-6 328,-12 328,-12 328,-56 328,-56 328,-62 322,-68 316,-68\"/>\n<text text-anchor=\"start\" x=\"241\" y=\"-52.8\" font-family=\"Helvetica,sans-Serif\" font-size=\"14.00\" fill=\"#000000\">gini = 0.0</text>\n<text text-anchor=\"start\" x=\"231\" y=\"-37.8\" font-family=\"Helvetica,sans-Serif\" font-size=\"14.00\" fill=\"#000000\">samples = 1</text>\n<text text-anchor=\"start\" x=\"221\" y=\"-22.8\" font-family=\"Helvetica,sans-Serif\" font-size=\"14.00\" fill=\"#000000\">value = [0, 1, 0]</text>\n<text text-anchor=\"start\" x=\"231.5\" y=\"-7.8\" font-family=\"Helvetica,sans-Serif\" font-size=\"14.00\" fill=\"#000000\">class = train</text>\n</g>\n<!-- 4&#45;&gt;6 -->\n<g id=\"edge6\" class=\"edge\">\n<title>4&#45;&gt;6</title>\n<path fill=\"none\" stroke=\"#000000\" d=\"M229.076,-103.9815C234.2986,-95.1585 239.8229,-85.8258 245.0763,-76.9506\"/>\n<polygon fill=\"#000000\" stroke=\"#000000\" points=\"248.1364,-78.652 250.2184,-68.2637 242.1126,-75.0863 248.1364,-78.652\"/>\n</g>\n</g>\n</svg>\n"
          },
          "metadata": {
            "tags": []
          },
          "execution_count": 18
        }
      ]
    },
    {
      "cell_type": "code",
      "metadata": {
        "id": "c8Zy56SQAKlc"
      },
      "source": [
        "\n"
      ],
      "execution_count": null,
      "outputs": []
    }
  ]
}